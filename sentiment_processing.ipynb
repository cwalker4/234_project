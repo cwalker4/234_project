{
 "cells": [
  {
   "cell_type": "markdown",
   "metadata": {},
   "source": [
    "# Sentiment Analysis\n",
    "\n",
    "This notebook does some basic sentiment analysis of the text data scraped from YouTube (captions, comments, descriptions)."
   ]
  },
  {
   "cell_type": "code",
   "execution_count": 1,
   "metadata": {},
   "outputs": [],
   "source": [
    "import json\n",
    "import re\n",
    "import os\n",
    "\n",
    "import pandas as pd\n",
    "import numpy as np\n",
    "from textblob import TextBlob"
   ]
  },
  {
   "cell_type": "code",
   "execution_count": 2,
   "metadata": {},
   "outputs": [],
   "source": [
    "# import the raw video info json\n",
    "raw = pd.read_json('results/video_info.json', orient='index')\n",
    "raw.reset_index(inplace=True)\n",
    "raw.rename(index=str, columns={\"index\": \"video_id\"}, inplace=True)"
   ]
  },
  {
   "cell_type": "markdown",
   "metadata": {},
   "source": [
    "## Sentiment Analysis of Comments"
   ]
  },
  {
   "cell_type": "code",
   "execution_count": 3,
   "metadata": {},
   "outputs": [],
   "source": [
    "# process the comments\n",
    "comments = raw[['video_id', 'comments']].copy()\n",
    "\n",
    "comments = comments.comments.apply(lambda x: pd.Series(x))\\\n",
    "                        .stack()\\\n",
    "                        .reset_index(level=1, drop=True)\\\n",
    "                        .to_frame('comments')\\\n",
    "                        .join(comments[['video_id']], how='left')\n",
    "\n",
    "comments['comments'] = comments['comments'].astype('str')\n",
    "\n",
    "polarities = comments['polarity'] = comments.comments\\\n",
    "                       .apply(lambda x: TextBlob(x).sentiment.polarity)\n",
    "    \n",
    "avg_polarity = comments.groupby('video_id')['polarity'].mean().reset_index()\n",
    "avg_polarity.to_csv('derived_data/comment_sentiments.csv')"
   ]
  },
  {
   "cell_type": "markdown",
   "metadata": {},
   "source": [
    "## Sentiment Analysis of Descriptions"
   ]
  },
  {
   "cell_type": "code",
   "execution_count": 4,
   "metadata": {},
   "outputs": [],
   "source": [
    "descriptions = raw[['video_id', 'description']].copy()\n",
    "descriptions['description'] = descriptions.description.astype(str)\n",
    "\n",
    "descriptions['polarity'] = descriptions.description.\\\n",
    "                           apply(lambda x: TextBlob(x).sentiment.polarity)\n",
    "    \n",
    "descriptions[['video_id', 'polarity']].to_csv('derived_data/description_sentiments.csv')"
   ]
  },
  {
   "cell_type": "markdown",
   "metadata": {},
   "source": [
    "## Sentiment Analysis of Captions"
   ]
  },
  {
   "cell_type": "code",
   "execution_count": 5,
   "metadata": {},
   "outputs": [],
   "source": [
    "polarities = {}\n",
    "\n",
    "for file in os.listdir('derived_data/captions_clean/'):\n",
    "    if file[0] == '.':\n",
    "        continue\n",
    "    video_id = file.split('.')[0]\n",
    "    captions = open(os.path.join('derived_data/captions_clean', file), 'r').readlines()\n",
    "    captions = [line.replace('\\n', '') for line in captions]\n",
    "    blob = TextBlob(\" \".join(captions))\n",
    "    polarities[video_id] = blob.sentiment.polarity\n",
    "    \n",
    "polarity_df = pd.DataFrame(list(polarities.items()), columns=['video_id', 'polarity'])\n",
    "polarity_df.to_csv('derived_data/caption_sentiments.csv')"
   ]
  }
 ],
 "metadata": {
  "kernelspec": {
   "display_name": "Python 3",
   "language": "python",
   "name": "python3"
  },
  "language_info": {
   "codemirror_mode": {
    "name": "ipython",
    "version": 3
   },
   "file_extension": ".py",
   "mimetype": "text/x-python",
   "name": "python",
   "nbconvert_exporter": "python",
   "pygments_lexer": "ipython3",
   "version": "3.6.4"
  }
 },
 "nbformat": 4,
 "nbformat_minor": 2
}
