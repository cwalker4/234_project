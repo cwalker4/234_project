{
 "cells": [
  {
   "cell_type": "markdown",
   "metadata": {},
   "source": [
    "# Graph Analysis\n",
    "\n",
    "This notebook analyzes the recommendation graph"
   ]
  },
  {
   "cell_type": "code",
   "execution_count": 54,
   "metadata": {},
   "outputs": [],
   "source": [
    "import os\n",
    "import pandas\n",
    "import json\n",
    "import numpy as np\n",
    "import pandas as pd\n",
    "\n",
    "import networkx as nx\n",
    "from matplotlib import pyplot as plt"
   ]
  },
  {
   "cell_type": "code",
   "execution_count": 55,
   "metadata": {},
   "outputs": [],
   "source": [
    "# import the graph from adjacency list\n",
    "G = nx.read_adjlist(create_using=nx.DiGraph(), \n",
    "                    path=\"derived_data/adjacency_list.txt\")\n",
    "#nx.write_graphml(G, 'derived_data/rec_graph.graphml')\n",
    "\n",
    "# wrap in the features I collected \n",
    "with open('results/video_info.json', 'r') as f:\n",
    "    video_info = json.load(f)"
   ]
  },
  {
   "cell_type": "code",
   "execution_count": 74,
   "metadata": {},
   "outputs": [],
   "source": [
    "# make a category_name <-> id mapping for easier category handling\n",
    "category_list = [category[id] for id in category]\n",
    "categories = set(category_list)\n",
    "cat_mapping = {}\n",
    "for ix, category_id in enumerate(categories):\n",
    "    cat_mapping[category_id] = ix\n",
    "    \n",
    "category = {}\n",
    "views = {}\n",
    "lr = {}\n",
    "postdate = {}\n",
    "channel = {}\n",
    "for video_id in video_info:\n",
    "    info = video_info.get(video_id, {})\n",
    "    try:\n",
    "        like_ratio = int(info['likes']) / (int(info['likes']) + int(info['dislikes']))\n",
    "    except ZeroDivisionError:\n",
    "        like_ratio = 0.5\n",
    "    \n",
    "    channel[video_id] = info['channel']\n",
    "    category[video_id] = cat_mapping[info['category']]\n",
    "    views[video_id] = int(info['views'])\n",
    "    lr[video_id] = float(like_ratio)\n",
    "    postdate[video_id] =  info['postdate']\n",
    "    \n",
    "    \n",
    "nx.set_node_attributes(G, name='category', values=category)\n",
    "nx.set_node_attributes(G, name='views', values=views)\n",
    "nx.set_node_attributes(G, name='like_ratio', values=lr)\n",
    "nx.set_node_attributes(G, name='postdate', values=postdate)\n",
    "nx.set_node_attributes(G, name='channel', values=channel)"
   ]
  },
  {
   "cell_type": "code",
   "execution_count": 75,
   "metadata": {},
   "outputs": [
    {
     "name": "stdout",
     "output_type": "stream",
     "text": [
      "0.5384591277043769\n",
      "0.4277838215563446\n"
     ]
    }
   ],
   "source": [
    "# assortativity\n",
    "print(nx.attribute_assortativity_coefficient(G, 'category'))\n",
    "print(nx.attribute_assortativity_coefficient(G, 'channel'))\n",
    "#print(nx.numeric_assortativity_coefficient(G, attribute='views'))\n",
    "#print(nx.numeric_assortativity_coefficient(G, attribute='like_ratio'))"
   ]
  },
  {
   "cell_type": "code",
   "execution_count": 93,
   "metadata": {},
   "outputs": [],
   "source": [
    "# mix_matrix[i,j] = count of i -> j edges\n",
    "mix_matrix = nx.attribute_mixing_matrix(G, \n",
    "                                   attribute='category',\n",
    "                                   normalized=False)\n",
    "\n",
    "# normalize so rows sum to 1; choosing rows so that each cell can\n",
    "# be interpreted as the frequency with which category i recommends a video\n",
    "# in category j (row sums are the out-degree)\n",
    "mix_matrix = mix_matrix / mix_matrix.sum(axis=1, keepdims=True)"
   ]
  },
  {
   "cell_type": "code",
   "execution_count": 95,
   "metadata": {},
   "outputs": [
    {
     "data": {
      "image/png": "[encoded data removed]",
      "text/plain": [
       "<matplotlib.figure.Figure at 0x151b27a240>"
      ]
     },
     "metadata": {},
     "output_type": "display_data"
    }
   ],
   "source": [
    "plt.figure(figsize=(7,7))\n",
    "plt.imshow(mix_matrix)\n",
    "plt.colorbar(shrink=0.8)\n",
    "plt.xticks(np.arange(15))\n",
    "plt.yticks(np.arange(15))\n",
    "plt.savefig('presentation_resources/mixing_matrix', dpi=300)"
   ]
  },
  {
   "cell_type": "code",
   "execution_count": 105,
   "metadata": {},
   "outputs": [],
   "source": [
    "# pageranks\n",
    "pr = nx.pagerank(G)\n",
    "\n",
    "pr_df = pd.DataFrame.from_dict(pr, orient=\"index\").reset_index()\\\n",
    "                 .rename(index=str, columns={'index': 'video_id', 0: 'pagerank'})\n",
    "    \n",
    "pr_df.to_csv('derived_data/pageranks.csv', index=False)"
   ]
  },
  {
   "cell_type": "code",
   "execution_count": 104,
   "metadata": {},
   "outputs": [],
   "source": []
  }
 ],
 "metadata": {
  "kernelspec": {
   "display_name": "Python 3",
   "language": "python",
   "name": "python3"
  },
  "language_info": {
   "codemirror_mode": {
    "name": "ipython",
    "version": 3
   },
   "file_extension": ".py",
   "mimetype": "text/x-python",
   "name": "python",
   "nbconvert_exporter": "python",
   "pygments_lexer": "ipython3",
   "version": "3.6.4"
  }
 },
 "nbformat": 4,
 "nbformat_minor": 2
}
